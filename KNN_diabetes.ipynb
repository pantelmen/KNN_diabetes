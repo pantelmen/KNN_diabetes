{
 "cells": [
  {
   "cell_type": "code",
   "execution_count": 85,
   "id": "92e54df4",
   "metadata": {},
   "outputs": [],
   "source": [
    "import pandas as pd\n",
    "import numpy as np\n",
    "import math\n",
    "from sklearn.preprocessing import StandardScaler\n",
    "from sklearn.neighbors import KNeighborsClassifier\n",
    "from sklearn.model_selection import train_test_split\n",
    "from sklearn.metrics import accuracy_score\n",
    "import matplotlib.pyplot as plt"
   ]
  },
  {
   "cell_type": "code",
   "execution_count": 86,
   "id": "aed41a9a",
   "metadata": {},
   "outputs": [
    {
     "data": {
      "text/html": [
       "<div>\n",
       "<style scoped>\n",
       "    .dataframe tbody tr th:only-of-type {\n",
       "        vertical-align: middle;\n",
       "    }\n",
       "\n",
       "    .dataframe tbody tr th {\n",
       "        vertical-align: top;\n",
       "    }\n",
       "\n",
       "    .dataframe thead th {\n",
       "        text-align: right;\n",
       "    }\n",
       "</style>\n",
       "<table border=\"1\" class=\"dataframe\">\n",
       "  <thead>\n",
       "    <tr style=\"text-align: right;\">\n",
       "      <th></th>\n",
       "      <th>Pregnancies</th>\n",
       "      <th>Glucose</th>\n",
       "      <th>BloodPressure</th>\n",
       "      <th>SkinThickness</th>\n",
       "      <th>Insulin</th>\n",
       "      <th>BMI</th>\n",
       "      <th>DiabetesPedigreeFunction</th>\n",
       "      <th>Age</th>\n",
       "      <th>Outcome</th>\n",
       "    </tr>\n",
       "  </thead>\n",
       "  <tbody>\n",
       "    <tr>\n",
       "      <th>0</th>\n",
       "      <td>6</td>\n",
       "      <td>148</td>\n",
       "      <td>72</td>\n",
       "      <td>35</td>\n",
       "      <td>0</td>\n",
       "      <td>33.6</td>\n",
       "      <td>0.627</td>\n",
       "      <td>50</td>\n",
       "      <td>1</td>\n",
       "    </tr>\n",
       "    <tr>\n",
       "      <th>1</th>\n",
       "      <td>1</td>\n",
       "      <td>85</td>\n",
       "      <td>66</td>\n",
       "      <td>29</td>\n",
       "      <td>0</td>\n",
       "      <td>26.6</td>\n",
       "      <td>0.351</td>\n",
       "      <td>31</td>\n",
       "      <td>0</td>\n",
       "    </tr>\n",
       "    <tr>\n",
       "      <th>2</th>\n",
       "      <td>8</td>\n",
       "      <td>183</td>\n",
       "      <td>64</td>\n",
       "      <td>0</td>\n",
       "      <td>0</td>\n",
       "      <td>23.3</td>\n",
       "      <td>0.672</td>\n",
       "      <td>32</td>\n",
       "      <td>1</td>\n",
       "    </tr>\n",
       "    <tr>\n",
       "      <th>3</th>\n",
       "      <td>1</td>\n",
       "      <td>89</td>\n",
       "      <td>66</td>\n",
       "      <td>23</td>\n",
       "      <td>94</td>\n",
       "      <td>28.1</td>\n",
       "      <td>0.167</td>\n",
       "      <td>21</td>\n",
       "      <td>0</td>\n",
       "    </tr>\n",
       "    <tr>\n",
       "      <th>4</th>\n",
       "      <td>0</td>\n",
       "      <td>137</td>\n",
       "      <td>40</td>\n",
       "      <td>35</td>\n",
       "      <td>168</td>\n",
       "      <td>43.1</td>\n",
       "      <td>2.288</td>\n",
       "      <td>33</td>\n",
       "      <td>1</td>\n",
       "    </tr>\n",
       "    <tr>\n",
       "      <th>...</th>\n",
       "      <td>...</td>\n",
       "      <td>...</td>\n",
       "      <td>...</td>\n",
       "      <td>...</td>\n",
       "      <td>...</td>\n",
       "      <td>...</td>\n",
       "      <td>...</td>\n",
       "      <td>...</td>\n",
       "      <td>...</td>\n",
       "    </tr>\n",
       "    <tr>\n",
       "      <th>763</th>\n",
       "      <td>10</td>\n",
       "      <td>101</td>\n",
       "      <td>76</td>\n",
       "      <td>48</td>\n",
       "      <td>180</td>\n",
       "      <td>32.9</td>\n",
       "      <td>0.171</td>\n",
       "      <td>63</td>\n",
       "      <td>0</td>\n",
       "    </tr>\n",
       "    <tr>\n",
       "      <th>764</th>\n",
       "      <td>2</td>\n",
       "      <td>122</td>\n",
       "      <td>70</td>\n",
       "      <td>27</td>\n",
       "      <td>0</td>\n",
       "      <td>36.8</td>\n",
       "      <td>0.340</td>\n",
       "      <td>27</td>\n",
       "      <td>0</td>\n",
       "    </tr>\n",
       "    <tr>\n",
       "      <th>765</th>\n",
       "      <td>5</td>\n",
       "      <td>121</td>\n",
       "      <td>72</td>\n",
       "      <td>23</td>\n",
       "      <td>112</td>\n",
       "      <td>26.2</td>\n",
       "      <td>0.245</td>\n",
       "      <td>30</td>\n",
       "      <td>0</td>\n",
       "    </tr>\n",
       "    <tr>\n",
       "      <th>766</th>\n",
       "      <td>1</td>\n",
       "      <td>126</td>\n",
       "      <td>60</td>\n",
       "      <td>0</td>\n",
       "      <td>0</td>\n",
       "      <td>30.1</td>\n",
       "      <td>0.349</td>\n",
       "      <td>47</td>\n",
       "      <td>1</td>\n",
       "    </tr>\n",
       "    <tr>\n",
       "      <th>767</th>\n",
       "      <td>1</td>\n",
       "      <td>93</td>\n",
       "      <td>70</td>\n",
       "      <td>31</td>\n",
       "      <td>0</td>\n",
       "      <td>30.4</td>\n",
       "      <td>0.315</td>\n",
       "      <td>23</td>\n",
       "      <td>0</td>\n",
       "    </tr>\n",
       "  </tbody>\n",
       "</table>\n",
       "<p>768 rows × 9 columns</p>\n",
       "</div>"
      ],
      "text/plain": [
       "     Pregnancies  Glucose  BloodPressure  SkinThickness  Insulin   BMI  \\\n",
       "0              6      148             72             35        0  33.6   \n",
       "1              1       85             66             29        0  26.6   \n",
       "2              8      183             64              0        0  23.3   \n",
       "3              1       89             66             23       94  28.1   \n",
       "4              0      137             40             35      168  43.1   \n",
       "..           ...      ...            ...            ...      ...   ...   \n",
       "763           10      101             76             48      180  32.9   \n",
       "764            2      122             70             27        0  36.8   \n",
       "765            5      121             72             23      112  26.2   \n",
       "766            1      126             60              0        0  30.1   \n",
       "767            1       93             70             31        0  30.4   \n",
       "\n",
       "     DiabetesPedigreeFunction  Age  Outcome  \n",
       "0                       0.627   50        1  \n",
       "1                       0.351   31        0  \n",
       "2                       0.672   32        1  \n",
       "3                       0.167   21        0  \n",
       "4                       2.288   33        1  \n",
       "..                        ...  ...      ...  \n",
       "763                     0.171   63        0  \n",
       "764                     0.340   27        0  \n",
       "765                     0.245   30        0  \n",
       "766                     0.349   47        1  \n",
       "767                     0.315   23        0  \n",
       "\n",
       "[768 rows x 9 columns]"
      ]
     },
     "execution_count": 86,
     "metadata": {},
     "output_type": "execute_result"
    }
   ],
   "source": [
    "data = pd.read_csv(\"./data/diabetes.csv\")\n",
    "data"
   ]
  },
  {
   "cell_type": "code",
   "execution_count": 87,
   "id": "835c815e",
   "metadata": {},
   "outputs": [],
   "source": [
    "#Split the data in training and target\n",
    "training_data = data.drop(columns=\"Outcome\")\n",
    "target = data[\"Outcome\"]"
   ]
  },
  {
   "cell_type": "code",
   "execution_count": 88,
   "id": "ff37c681",
   "metadata": {},
   "outputs": [],
   "source": [
    "#Prepare the data to feed the algorithm\n",
    "x_train,x_test,y_train,y_test = train_test_split(training_data,target,test_size=.25)\n",
    "#Create a scaler to normalize the data\n",
    "scaler = StandardScaler()\n",
    "#Normalize the data\n",
    "x_train = scaler.fit_transform(x_train)\n",
    "x_test = scaler.transform(x_test)"
   ]
  },
  {
   "cell_type": "markdown",
   "id": "3b689409",
   "metadata": {},
   "source": [
    "Θα δοκιμάσουμε να πάρουμε ως Κ την ρίζα του Ν.Η συγκεκριμένη τεχνική ειναι αρκετά διαδεδομένη στους επιστήμονες δεδομένων και θεωρείται μια πολύ καλή λύση.\n"
   ]
  },
  {
   "cell_type": "code",
   "execution_count": 89,
   "id": "30fa13c5",
   "metadata": {},
   "outputs": [
    {
     "name": "stdout",
     "output_type": "stream",
     "text": [
      "0.5677083333333334\n"
     ]
    }
   ],
   "source": [
    "#square root of N\n",
    "\n",
    "#Accuracy score of the classifier\n",
    "print(accuracy_score(y_test,y_pred))\n",
    "k = int(math.sqrt(len(y_test))) # K = 13\n",
    "#Create the classifier\n",
    "classifier = KNeighborsClassifier(n_neighbors=k,metric='euclidean',n_jobs=-1)\n",
    "#Train with the training data\n",
    "classifier.fit(x_train,y_train)\n",
    "#Predict\n",
    "y_pred = classifier.predict(x_test)\n"
   ]
  },
  {
   "cell_type": "markdown",
   "id": "46846254",
   "metadata": {},
   "source": [
    "# Calculate the optimal K for the KNN Classifier"
   ]
  },
  {
   "cell_type": "code",
   "execution_count": 90,
   "id": "bd694074",
   "metadata": {},
   "outputs": [
    {
     "data": {
      "text/plain": [
       "{1: 0.6875,\n",
       " 2: 0.6822916666666666,\n",
       " 3: 0.7291666666666666,\n",
       " 4: 0.7083333333333334,\n",
       " 5: 0.7447916666666666,\n",
       " 6: 0.71875,\n",
       " 7: 0.7760416666666666,\n",
       " 8: 0.75,\n",
       " 9: 0.7604166666666666,\n",
       " 10: 0.7708333333333334,\n",
       " 11: 0.7864583333333334,\n",
       " 12: 0.765625,\n",
       " 13: 0.7760416666666666,\n",
       " 14: 0.7447916666666666,\n",
       " 15: 0.75,\n",
       " 16: 0.7604166666666666,\n",
       " 17: 0.7604166666666666,\n",
       " 18: 0.7604166666666666,\n",
       " 19: 0.7760416666666666,\n",
       " 20: 0.7708333333333334,\n",
       " 21: 0.78125,\n",
       " 22: 0.7760416666666666,\n",
       " 23: 0.78125,\n",
       " 24: 0.78125,\n",
       " 25: 0.78125,\n",
       " 26: 0.78125,\n",
       " 27: 0.7760416666666666,\n",
       " 28: 0.7708333333333334,\n",
       " 29: 0.7708333333333334}"
      ]
     },
     "execution_count": 90,
     "metadata": {},
     "output_type": "execute_result"
    }
   ],
   "source": [
    "error = {}\n",
    "for i in range(1,30):\n",
    "    classifier = KNeighborsClassifier(n_neighbors=i,metric=\"euclidean\",n_jobs=-1)\n",
    "    classifier.fit(x_train,y_train)\n",
    "    y_pred = classifier.predict(x_test)\n",
    "    error[i] = accuracy_score(y_test,y_pred)\n",
    "error"
   ]
  },
  {
   "cell_type": "markdown",
   "id": "df2cbaf8",
   "metadata": {},
   "source": [
    "Με αυτόν τον τρόπο πήραμε ένα λεξικό με τις τιμές του accuracy score  για κάθε K από το 1 εώς το 29"
   ]
  },
  {
   "cell_type": "markdown",
   "id": "a401b6af",
   "metadata": {},
   "source": []
  },
  {
   "cell_type": "markdown",
   "id": "665ae0f7",
   "metadata": {},
   "source": [
    "# PLOT"
   ]
  },
  {
   "cell_type": "code",
   "execution_count": 91,
   "id": "7410b004",
   "metadata": {},
   "outputs": [
    {
     "data": {
      "text/plain": [
       "Text(0, 0.5, 'Accuracy score')"
      ]
     },
     "execution_count": 91,
     "metadata": {},
     "output_type": "execute_result"
    },
    {
     "data": {
      "image/png": "[encoded data removed]",
      "text/plain": [
       "<Figure size 864x720 with 1 Axes>"
      ]
     },
     "metadata": {},
     "output_type": "display_data"
    }
   ],
   "source": [
    "plt.style.use('bmh')\n",
    "plt.figure(figsize=(12,10))\n",
    "plt.plot(list(error.keys()),list(error.values()),c = 'C2',marker = 'o',markersize=15,mec= 'k',mew= 1.5)\n",
    "plt.xlabel(\"K_neighbors\")\n",
    "plt.ylabel(\"Accuracy score\")"
   ]
  },
  {
   "cell_type": "markdown",
   "id": "29c29b51",
   "metadata": {},
   "source": [
    "Με αυτόν τον τρόπο μπορούμε να δούμε αναλυτικά το σφάλμα για κάθε Κ όμως αυτός ο τρόπος που το υπολογίσαμε σε περίπτωση που είχαμε μεγάλο όγκο δεδομένων θα ήταν πάρα πολύ χρονοβόρος."
   ]
  },
  {
   "cell_type": "code",
   "execution_count": null,
   "id": "62a97bbd",
   "metadata": {},
   "outputs": [],
   "source": []
  },
  {
   "cell_type": "code",
   "execution_count": null,
   "id": "36ecd5e0",
   "metadata": {},
   "outputs": [],
   "source": []
  }
 ],
 "metadata": {
  "kernelspec": {
   "display_name": "Python 3",
   "language": "python",
   "name": "python3"
  },
  "language_info": {
   "codemirror_mode": {
    "name": "ipython",
    "version": 3
   },
   "file_extension": ".py",
   "mimetype": "text/x-python",
   "name": "python",
   "nbconvert_exporter": "python",
   "pygments_lexer": "ipython3",
   "version": "3.8.10"
  }
 },
 "nbformat": 4,
 "nbformat_minor": 5
}
